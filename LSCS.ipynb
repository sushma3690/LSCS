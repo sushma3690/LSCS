{
 "cells": [
  {
   "cell_type": "markdown",
   "id": "77a75d90",
   "metadata": {},
   "source": [
    "##  1. Import libraries required for EDA"
   ]
  },
  {
   "cell_type": "code",
   "execution_count": 1,
   "id": "4e762647",
   "metadata": {},
   "outputs": [],
   "source": [
    "# libraries to read the csv and inspeact the dataframe created from csv\n",
    "import pandas as pd\n",
    "import numpy as np\n",
    "\n",
    "#libraries for EDA - Visualization\n",
    "import matplotlib.pyplot as plt\n",
    "import seaborn as sns"
   ]
  },
  {
   "cell_type": "code",
   "execution_count": 2,
   "id": "26c6d1f1",
   "metadata": {},
   "outputs": [],
   "source": [
    "# Supress Warnings\n",
    "\n",
    "import warnings\n",
    "warnings.filterwarnings('ignore')"
   ]
  },
  {
   "cell_type": "markdown",
   "id": "0ec3d2f2",
   "metadata": {},
   "source": [
    "## 2. Reading the CSV and understanding the data"
   ]
  },
  {
   "cell_type": "code",
   "execution_count": 3,
   "id": "bb1b3e5e",
   "metadata": {},
   "outputs": [],
   "source": [
    "#Read the CSV\n",
    "\n",
    "leads = pd.read_csv('Leads.csv')\n",
    "\n",
    "#maintaining a copy of the dataframe, so that we can do further data handling whlist we have a copy\n",
    "leads_orig = leads"
   ]
  },
  {
   "cell_type": "code",
   "execution_count": 4,
   "id": "f7248337",
   "metadata": {},
   "outputs": [
    {
     "data": {
      "text/html": [
       "<div>\n",
       "<style scoped>\n",
       "    .dataframe tbody tr th:only-of-type {\n",
       "        vertical-align: middle;\n",
       "    }\n",
       "\n",
       "    .dataframe tbody tr th {\n",
       "        vertical-align: top;\n",
       "    }\n",
       "\n",
       "    .dataframe thead th {\n",
       "        text-align: right;\n",
       "    }\n",
       "</style>\n",
       "<table border=\"1\" class=\"dataframe\">\n",
       "  <thead>\n",
       "    <tr style=\"text-align: right;\">\n",
       "      <th></th>\n",
       "      <th>Prospect ID</th>\n",
       "      <th>Lead Number</th>\n",
       "      <th>Lead Origin</th>\n",
       "      <th>Lead Source</th>\n",
       "      <th>Do Not Email</th>\n",
       "      <th>Do Not Call</th>\n",
       "      <th>Converted</th>\n",
       "      <th>TotalVisits</th>\n",
       "      <th>Total Time Spent on Website</th>\n",
       "      <th>Page Views Per Visit</th>\n",
       "      <th>...</th>\n",
       "      <th>Get updates on DM Content</th>\n",
       "      <th>Lead Profile</th>\n",
       "      <th>City</th>\n",
       "      <th>Asymmetrique Activity Index</th>\n",
       "      <th>Asymmetrique Profile Index</th>\n",
       "      <th>Asymmetrique Activity Score</th>\n",
       "      <th>Asymmetrique Profile Score</th>\n",
       "      <th>I agree to pay the amount through cheque</th>\n",
       "      <th>A free copy of Mastering The Interview</th>\n",
       "      <th>Last Notable Activity</th>\n",
       "    </tr>\n",
       "  </thead>\n",
       "  <tbody>\n",
       "    <tr>\n",
       "      <th>0</th>\n",
       "      <td>7927b2df-8bba-4d29-b9a2-b6e0beafe620</td>\n",
       "      <td>660737</td>\n",
       "      <td>API</td>\n",
       "      <td>Olark Chat</td>\n",
       "      <td>No</td>\n",
       "      <td>No</td>\n",
       "      <td>0</td>\n",
       "      <td>0.0</td>\n",
       "      <td>0</td>\n",
       "      <td>0.0</td>\n",
       "      <td>...</td>\n",
       "      <td>No</td>\n",
       "      <td>Select</td>\n",
       "      <td>Select</td>\n",
       "      <td>02.Medium</td>\n",
       "      <td>02.Medium</td>\n",
       "      <td>15.0</td>\n",
       "      <td>15.0</td>\n",
       "      <td>No</td>\n",
       "      <td>No</td>\n",
       "      <td>Modified</td>\n",
       "    </tr>\n",
       "    <tr>\n",
       "      <th>1</th>\n",
       "      <td>2a272436-5132-4136-86fa-dcc88c88f482</td>\n",
       "      <td>660728</td>\n",
       "      <td>API</td>\n",
       "      <td>Organic Search</td>\n",
       "      <td>No</td>\n",
       "      <td>No</td>\n",
       "      <td>0</td>\n",
       "      <td>5.0</td>\n",
       "      <td>674</td>\n",
       "      <td>2.5</td>\n",
       "      <td>...</td>\n",
       "      <td>No</td>\n",
       "      <td>Select</td>\n",
       "      <td>Select</td>\n",
       "      <td>02.Medium</td>\n",
       "      <td>02.Medium</td>\n",
       "      <td>15.0</td>\n",
       "      <td>15.0</td>\n",
       "      <td>No</td>\n",
       "      <td>No</td>\n",
       "      <td>Email Opened</td>\n",
       "    </tr>\n",
       "    <tr>\n",
       "      <th>2</th>\n",
       "      <td>8cc8c611-a219-4f35-ad23-fdfd2656bd8a</td>\n",
       "      <td>660727</td>\n",
       "      <td>Landing Page Submission</td>\n",
       "      <td>Direct Traffic</td>\n",
       "      <td>No</td>\n",
       "      <td>No</td>\n",
       "      <td>1</td>\n",
       "      <td>2.0</td>\n",
       "      <td>1532</td>\n",
       "      <td>2.0</td>\n",
       "      <td>...</td>\n",
       "      <td>No</td>\n",
       "      <td>Potential Lead</td>\n",
       "      <td>Mumbai</td>\n",
       "      <td>02.Medium</td>\n",
       "      <td>01.High</td>\n",
       "      <td>14.0</td>\n",
       "      <td>20.0</td>\n",
       "      <td>No</td>\n",
       "      <td>Yes</td>\n",
       "      <td>Email Opened</td>\n",
       "    </tr>\n",
       "    <tr>\n",
       "      <th>3</th>\n",
       "      <td>0cc2df48-7cf4-4e39-9de9-19797f9b38cc</td>\n",
       "      <td>660719</td>\n",
       "      <td>Landing Page Submission</td>\n",
       "      <td>Direct Traffic</td>\n",
       "      <td>No</td>\n",
       "      <td>No</td>\n",
       "      <td>0</td>\n",
       "      <td>1.0</td>\n",
       "      <td>305</td>\n",
       "      <td>1.0</td>\n",
       "      <td>...</td>\n",
       "      <td>No</td>\n",
       "      <td>Select</td>\n",
       "      <td>Mumbai</td>\n",
       "      <td>02.Medium</td>\n",
       "      <td>01.High</td>\n",
       "      <td>13.0</td>\n",
       "      <td>17.0</td>\n",
       "      <td>No</td>\n",
       "      <td>No</td>\n",
       "      <td>Modified</td>\n",
       "    </tr>\n",
       "    <tr>\n",
       "      <th>4</th>\n",
       "      <td>3256f628-e534-4826-9d63-4a8b88782852</td>\n",
       "      <td>660681</td>\n",
       "      <td>Landing Page Submission</td>\n",
       "      <td>Google</td>\n",
       "      <td>No</td>\n",
       "      <td>No</td>\n",
       "      <td>1</td>\n",
       "      <td>2.0</td>\n",
       "      <td>1428</td>\n",
       "      <td>1.0</td>\n",
       "      <td>...</td>\n",
       "      <td>No</td>\n",
       "      <td>Select</td>\n",
       "      <td>Mumbai</td>\n",
       "      <td>02.Medium</td>\n",
       "      <td>01.High</td>\n",
       "      <td>15.0</td>\n",
       "      <td>18.0</td>\n",
       "      <td>No</td>\n",
       "      <td>No</td>\n",
       "      <td>Modified</td>\n",
       "    </tr>\n",
       "  </tbody>\n",
       "</table>\n",
       "<p>5 rows × 37 columns</p>\n",
       "</div>"
      ],
      "text/plain": [
       "                            Prospect ID  Lead Number              Lead Origin  \\\n",
       "0  7927b2df-8bba-4d29-b9a2-b6e0beafe620       660737                      API   \n",
       "1  2a272436-5132-4136-86fa-dcc88c88f482       660728                      API   \n",
       "2  8cc8c611-a219-4f35-ad23-fdfd2656bd8a       660727  Landing Page Submission   \n",
       "3  0cc2df48-7cf4-4e39-9de9-19797f9b38cc       660719  Landing Page Submission   \n",
       "4  3256f628-e534-4826-9d63-4a8b88782852       660681  Landing Page Submission   \n",
       "\n",
       "      Lead Source Do Not Email Do Not Call  Converted  TotalVisits  \\\n",
       "0      Olark Chat           No          No          0          0.0   \n",
       "1  Organic Search           No          No          0          5.0   \n",
       "2  Direct Traffic           No          No          1          2.0   \n",
       "3  Direct Traffic           No          No          0          1.0   \n",
       "4          Google           No          No          1          2.0   \n",
       "\n",
       "   Total Time Spent on Website  Page Views Per Visit  ...  \\\n",
       "0                            0                   0.0  ...   \n",
       "1                          674                   2.5  ...   \n",
       "2                         1532                   2.0  ...   \n",
       "3                          305                   1.0  ...   \n",
       "4                         1428                   1.0  ...   \n",
       "\n",
       "  Get updates on DM Content    Lead Profile    City  \\\n",
       "0                        No          Select  Select   \n",
       "1                        No          Select  Select   \n",
       "2                        No  Potential Lead  Mumbai   \n",
       "3                        No          Select  Mumbai   \n",
       "4                        No          Select  Mumbai   \n",
       "\n",
       "  Asymmetrique Activity Index Asymmetrique Profile Index  \\\n",
       "0                   02.Medium                  02.Medium   \n",
       "1                   02.Medium                  02.Medium   \n",
       "2                   02.Medium                    01.High   \n",
       "3                   02.Medium                    01.High   \n",
       "4                   02.Medium                    01.High   \n",
       "\n",
       "  Asymmetrique Activity Score Asymmetrique Profile Score  \\\n",
       "0                        15.0                       15.0   \n",
       "1                        15.0                       15.0   \n",
       "2                        14.0                       20.0   \n",
       "3                        13.0                       17.0   \n",
       "4                        15.0                       18.0   \n",
       "\n",
       "  I agree to pay the amount through cheque  \\\n",
       "0                                       No   \n",
       "1                                       No   \n",
       "2                                       No   \n",
       "3                                       No   \n",
       "4                                       No   \n",
       "\n",
       "  A free copy of Mastering The Interview Last Notable Activity  \n",
       "0                                     No              Modified  \n",
       "1                                     No          Email Opened  \n",
       "2                                    Yes          Email Opened  \n",
       "3                                     No              Modified  \n",
       "4                                     No              Modified  \n",
       "\n",
       "[5 rows x 37 columns]"
      ]
     },
     "execution_count": 4,
     "metadata": {},
     "output_type": "execute_result"
    }
   ],
   "source": [
    "#let us see the top 5 rows\n",
    "\n",
    "leads.head()"
   ]
  },
  {
   "cell_type": "code",
   "execution_count": 5,
   "id": "522c6111",
   "metadata": {},
   "outputs": [
    {
     "name": "stdout",
     "output_type": "stream",
     "text": [
      "Number of rows in Leads dataframe are  9240\n",
      "Number of columns in Leads dataframe are  37\n"
     ]
    }
   ],
   "source": [
    "#Shape of the leads dataframe\n",
    "dimension = leads.shape\n",
    "print('Number of rows in Leads dataframe are ', dimension[0])\n",
    "print('Number of columns in Leads dataframe are ', dimension[1])"
   ]
  },
  {
   "cell_type": "code",
   "execution_count": 6,
   "id": "8493ef65",
   "metadata": {},
   "outputs": [
    {
     "name": "stdout",
     "output_type": "stream",
     "text": [
      "<class 'pandas.core.frame.DataFrame'>\n",
      "RangeIndex: 9240 entries, 0 to 9239\n",
      "Data columns (total 37 columns):\n",
      " #   Column                                         Non-Null Count  Dtype  \n",
      "---  ------                                         --------------  -----  \n",
      " 0   Prospect ID                                    9240 non-null   object \n",
      " 1   Lead Number                                    9240 non-null   int64  \n",
      " 2   Lead Origin                                    9240 non-null   object \n",
      " 3   Lead Source                                    9204 non-null   object \n",
      " 4   Do Not Email                                   9240 non-null   object \n",
      " 5   Do Not Call                                    9240 non-null   object \n",
      " 6   Converted                                      9240 non-null   int64  \n",
      " 7   TotalVisits                                    9103 non-null   float64\n",
      " 8   Total Time Spent on Website                    9240 non-null   int64  \n",
      " 9   Page Views Per Visit                           9103 non-null   float64\n",
      " 10  Last Activity                                  9137 non-null   object \n",
      " 11  Country                                        6779 non-null   object \n",
      " 12  Specialization                                 7802 non-null   object \n",
      " 13  How did you hear about X Education             7033 non-null   object \n",
      " 14  What is your current occupation                6550 non-null   object \n",
      " 15  What matters most to you in choosing a course  6531 non-null   object \n",
      " 16  Search                                         9240 non-null   object \n",
      " 17  Magazine                                       9240 non-null   object \n",
      " 18  Newspaper Article                              9240 non-null   object \n",
      " 19  X Education Forums                             9240 non-null   object \n",
      " 20  Newspaper                                      9240 non-null   object \n",
      " 21  Digital Advertisement                          9240 non-null   object \n",
      " 22  Through Recommendations                        9240 non-null   object \n",
      " 23  Receive More Updates About Our Courses         9240 non-null   object \n",
      " 24  Tags                                           5887 non-null   object \n",
      " 25  Lead Quality                                   4473 non-null   object \n",
      " 26  Update me on Supply Chain Content              9240 non-null   object \n",
      " 27  Get updates on DM Content                      9240 non-null   object \n",
      " 28  Lead Profile                                   6531 non-null   object \n",
      " 29  City                                           7820 non-null   object \n",
      " 30  Asymmetrique Activity Index                    5022 non-null   object \n",
      " 31  Asymmetrique Profile Index                     5022 non-null   object \n",
      " 32  Asymmetrique Activity Score                    5022 non-null   float64\n",
      " 33  Asymmetrique Profile Score                     5022 non-null   float64\n",
      " 34  I agree to pay the amount through cheque       9240 non-null   object \n",
      " 35  A free copy of Mastering The Interview         9240 non-null   object \n",
      " 36  Last Notable Activity                          9240 non-null   object \n",
      "dtypes: float64(4), int64(3), object(30)\n",
      "memory usage: 2.6+ MB\n"
     ]
    }
   ],
   "source": [
    "#Lets see the further details about columns of this dataframe\n",
    "\n",
    "leads.info()"
   ]
  },
  {
   "cell_type": "code",
   "execution_count": 7,
   "id": "b889250f",
   "metadata": {},
   "outputs": [
    {
     "data": {
      "text/html": [
       "<div>\n",
       "<style scoped>\n",
       "    .dataframe tbody tr th:only-of-type {\n",
       "        vertical-align: middle;\n",
       "    }\n",
       "\n",
       "    .dataframe tbody tr th {\n",
       "        vertical-align: top;\n",
       "    }\n",
       "\n",
       "    .dataframe thead th {\n",
       "        text-align: right;\n",
       "    }\n",
       "</style>\n",
       "<table border=\"1\" class=\"dataframe\">\n",
       "  <thead>\n",
       "    <tr style=\"text-align: right;\">\n",
       "      <th></th>\n",
       "      <th>Lead Number</th>\n",
       "      <th>Converted</th>\n",
       "      <th>TotalVisits</th>\n",
       "      <th>Total Time Spent on Website</th>\n",
       "      <th>Page Views Per Visit</th>\n",
       "      <th>Asymmetrique Activity Score</th>\n",
       "      <th>Asymmetrique Profile Score</th>\n",
       "    </tr>\n",
       "  </thead>\n",
       "  <tbody>\n",
       "    <tr>\n",
       "      <th>count</th>\n",
       "      <td>9240.000000</td>\n",
       "      <td>9240.000000</td>\n",
       "      <td>9103.000000</td>\n",
       "      <td>9240.000000</td>\n",
       "      <td>9103.000000</td>\n",
       "      <td>5022.000000</td>\n",
       "      <td>5022.000000</td>\n",
       "    </tr>\n",
       "    <tr>\n",
       "      <th>mean</th>\n",
       "      <td>617188.435606</td>\n",
       "      <td>0.385390</td>\n",
       "      <td>3.445238</td>\n",
       "      <td>487.698268</td>\n",
       "      <td>2.362820</td>\n",
       "      <td>14.306252</td>\n",
       "      <td>16.344883</td>\n",
       "    </tr>\n",
       "    <tr>\n",
       "      <th>std</th>\n",
       "      <td>23405.995698</td>\n",
       "      <td>0.486714</td>\n",
       "      <td>4.854853</td>\n",
       "      <td>548.021466</td>\n",
       "      <td>2.161418</td>\n",
       "      <td>1.386694</td>\n",
       "      <td>1.811395</td>\n",
       "    </tr>\n",
       "    <tr>\n",
       "      <th>min</th>\n",
       "      <td>579533.000000</td>\n",
       "      <td>0.000000</td>\n",
       "      <td>0.000000</td>\n",
       "      <td>0.000000</td>\n",
       "      <td>0.000000</td>\n",
       "      <td>7.000000</td>\n",
       "      <td>11.000000</td>\n",
       "    </tr>\n",
       "    <tr>\n",
       "      <th>25%</th>\n",
       "      <td>596484.500000</td>\n",
       "      <td>0.000000</td>\n",
       "      <td>1.000000</td>\n",
       "      <td>12.000000</td>\n",
       "      <td>1.000000</td>\n",
       "      <td>14.000000</td>\n",
       "      <td>15.000000</td>\n",
       "    </tr>\n",
       "    <tr>\n",
       "      <th>50%</th>\n",
       "      <td>615479.000000</td>\n",
       "      <td>0.000000</td>\n",
       "      <td>3.000000</td>\n",
       "      <td>248.000000</td>\n",
       "      <td>2.000000</td>\n",
       "      <td>14.000000</td>\n",
       "      <td>16.000000</td>\n",
       "    </tr>\n",
       "    <tr>\n",
       "      <th>75%</th>\n",
       "      <td>637387.250000</td>\n",
       "      <td>1.000000</td>\n",
       "      <td>5.000000</td>\n",
       "      <td>936.000000</td>\n",
       "      <td>3.000000</td>\n",
       "      <td>15.000000</td>\n",
       "      <td>18.000000</td>\n",
       "    </tr>\n",
       "    <tr>\n",
       "      <th>max</th>\n",
       "      <td>660737.000000</td>\n",
       "      <td>1.000000</td>\n",
       "      <td>251.000000</td>\n",
       "      <td>2272.000000</td>\n",
       "      <td>55.000000</td>\n",
       "      <td>18.000000</td>\n",
       "      <td>20.000000</td>\n",
       "    </tr>\n",
       "  </tbody>\n",
       "</table>\n",
       "</div>"
      ],
      "text/plain": [
       "         Lead Number    Converted  TotalVisits  Total Time Spent on Website  \\\n",
       "count    9240.000000  9240.000000  9103.000000                  9240.000000   \n",
       "mean   617188.435606     0.385390     3.445238                   487.698268   \n",
       "std     23405.995698     0.486714     4.854853                   548.021466   \n",
       "min    579533.000000     0.000000     0.000000                     0.000000   \n",
       "25%    596484.500000     0.000000     1.000000                    12.000000   \n",
       "50%    615479.000000     0.000000     3.000000                   248.000000   \n",
       "75%    637387.250000     1.000000     5.000000                   936.000000   \n",
       "max    660737.000000     1.000000   251.000000                  2272.000000   \n",
       "\n",
       "       Page Views Per Visit  Asymmetrique Activity Score  \\\n",
       "count           9103.000000                  5022.000000   \n",
       "mean               2.362820                    14.306252   \n",
       "std                2.161418                     1.386694   \n",
       "min                0.000000                     7.000000   \n",
       "25%                1.000000                    14.000000   \n",
       "50%                2.000000                    14.000000   \n",
       "75%                3.000000                    15.000000   \n",
       "max               55.000000                    18.000000   \n",
       "\n",
       "       Asymmetrique Profile Score  \n",
       "count                 5022.000000  \n",
       "mean                    16.344883  \n",
       "std                      1.811395  \n",
       "min                     11.000000  \n",
       "25%                     15.000000  \n",
       "50%                     16.000000  \n",
       "75%                     18.000000  \n",
       "max                     20.000000  "
      ]
     },
     "execution_count": 7,
     "metadata": {},
     "output_type": "execute_result"
    }
   ],
   "source": [
    "#lets see how the numerlical columns are\n",
    "\n",
    "leads.describe()"
   ]
  },
  {
   "cell_type": "markdown",
   "id": "811908c9",
   "metadata": {},
   "source": [
    "######  Dropping the duplicates"
   ]
  },
  {
   "cell_type": "code",
   "execution_count": 8,
   "id": "a526fb56",
   "metadata": {},
   "outputs": [
    {
     "name": "stdout",
     "output_type": "stream",
     "text": [
      "Number of rows in Leads dataframe before dropping duplicate rows are  9240\n",
      "Number of columns in Leads dataframe before dropping duplicate rows are  37\n",
      "\n",
      "\n",
      "Number of rows in Leads dataframe after dropping duplicate rows are  9240\n",
      "Number of columns in Leads dataframe after dropping duplicate rows are  37\n"
     ]
    }
   ],
   "source": [
    "#Lets first drop duplicate columns if any before analysing null value columns\n",
    "\n",
    "dimension = leads.shape\n",
    "print('Number of rows in Leads dataframe before dropping duplicate rows are ', dimension[0])\n",
    "print('Number of columns in Leads dataframe before dropping duplicate rows are ', dimension[1])\n",
    "\n",
    "\n",
    "leads.drop_duplicates(subset=None, inplace=True)\n",
    "\n",
    "print()\n",
    "print()\n",
    "dimension = leads.shape\n",
    "print('Number of rows in Leads dataframe after dropping duplicate rows are ', dimension[0])\n",
    "print('Number of columns in Leads dataframe after dropping duplicate rows are ', dimension[1])\n",
    "\n",
    "#they are same as seen below\n"
   ]
  },
  {
   "cell_type": "markdown",
   "id": "fb0e5b61",
   "metadata": {},
   "source": [
    "###### Before doing any further analysis lets drop prospect Id and Lead number as they are unique identifiers for a row and\n",
    "###### add no weightage or insights to our analysis"
   ]
  },
  {
   "cell_type": "code",
   "execution_count": 9,
   "id": "47f76761",
   "metadata": {},
   "outputs": [],
   "source": [
    "leads.drop(['Prospect ID', 'Lead Number'], 1, inplace = True)\n"
   ]
  },
  {
   "cell_type": "markdown",
   "id": "d8d23476",
   "metadata": {},
   "source": [
    "## 3. Dropping columns which have null values >= 40%"
   ]
  },
  {
   "cell_type": "markdown",
   "id": "795e0924",
   "metadata": {},
   "source": [
    "### Look for null columns and drop those which have values >= 40%"
   ]
  },
  {
   "cell_type": "code",
   "execution_count": 10,
   "id": "a82d01ba",
   "metadata": {},
   "outputs": [
    {
     "data": {
      "text/plain": [
       "Lead Quality                                     51.590909\n",
       "Asymmetrique Activity Index                      45.649351\n",
       "Asymmetrique Profile Score                       45.649351\n",
       "Asymmetrique Profile Index                       45.649351\n",
       "Asymmetrique Activity Score                      45.649351\n",
       "Tags                                             36.287879\n",
       "Lead Profile                                     29.318182\n",
       "What matters most to you in choosing a course    29.318182\n",
       "What is your current occupation                  29.112554\n",
       "Country                                          26.634199\n",
       "How did you hear about X Education               23.885281\n",
       "Specialization                                   15.562771\n",
       "City                                             15.367965\n",
       "Page Views Per Visit                              1.482684\n",
       "TotalVisits                                       1.482684\n",
       "Last Activity                                     1.114719\n",
       "Lead Source                                       0.389610\n",
       "I agree to pay the amount through cheque          0.000000\n",
       "A free copy of Mastering The Interview            0.000000\n",
       "Get updates on DM Content                         0.000000\n",
       "Update me on Supply Chain Content                 0.000000\n",
       "Lead Origin                                       0.000000\n",
       "X Education Forums                                0.000000\n",
       "Receive More Updates About Our Courses            0.000000\n",
       "Through Recommendations                           0.000000\n",
       "Digital Advertisement                             0.000000\n",
       "Newspaper                                         0.000000\n",
       "Newspaper Article                                 0.000000\n",
       "Magazine                                          0.000000\n",
       "Search                                            0.000000\n",
       "Total Time Spent on Website                       0.000000\n",
       "Converted                                         0.000000\n",
       "Do Not Call                                       0.000000\n",
       "Do Not Email                                      0.000000\n",
       "Last Notable Activity                             0.000000\n",
       "dtype: float64"
      ]
     },
     "execution_count": 10,
     "metadata": {},
     "output_type": "execute_result"
    }
   ],
   "source": [
    "#lets analyze how many columns have null values and to what %\n",
    "\n",
    "leads_null_columns = (leads.isnull().sum()/len(leads.index))*100\n",
    "leads_null_columns.sort_values(ascending=False)"
   ]
  },
  {
   "cell_type": "code",
   "execution_count": 11,
   "id": "c84d2f19",
   "metadata": {},
   "outputs": [
    {
     "name": "stdout",
     "output_type": "stream",
     "text": [
      "Number of null columns having null % between 20 and 30 are  5\n",
      "Number of null columns having null % between 30 and 40 are  1\n",
      "Number of null columns having null >= 40% are  5\n"
     ]
    }
   ],
   "source": [
    "#Inference from above\n",
    "\n",
    "print('Number of null columns having null % between 20 and 30 are ', len(leads_null_columns[(leads_null_columns >= 20) & (leads_null_columns <= 30)]))\n",
    "print('Number of null columns having null % between 30 and 40 are ', len(leads_null_columns[(leads_null_columns >= 30) & (leads_null_columns < 40)]))\n",
    "print('Number of null columns having null >= 40% are ', len(leads_null_columns[(leads_null_columns >= 40)]))\n",
    "\n",
    "#There are a total of 5 columns with null values greater than 45%"
   ]
  },
  {
   "cell_type": "markdown",
   "id": "4abdeb13",
   "metadata": {},
   "source": [
    "## Impute columns that have 'Select' "
   ]
  },
  {
   "cell_type": "markdown",
   "id": "de32b488",
   "metadata": {},
   "source": [
    "####  Before dropping null columns having >= 40 % null values, lets first analyze the \"Select\" value for categorical variables and how much they constitute to take care of the point mentioned in problem statement"
   ]
  },
  {
   "cell_type": "code",
   "execution_count": 12,
   "id": "2ef9fc2c",
   "metadata": {},
   "outputs": [
    {
     "name": "stdout",
     "output_type": "stream",
     "text": [
      "['Specialization', 'How did you hear about X Education', 'Lead Profile', 'City']\n"
     ]
    }
   ],
   "source": [
    "#Getting categorical clumns which have \"Select\" as a value.\n",
    "\n",
    "categorical_column_with_select_value=[]\n",
    "for column in leads.columns:\n",
    "    if len(leads[column].isin(['Select']).unique())>1:   \n",
    "        categorical_column_with_select_value.append(column)\n",
    "print(categorical_column_with_select_value)\n",
    "\n"
   ]
  },
  {
   "cell_type": "markdown",
   "id": "cc7ab67e",
   "metadata": {},
   "source": [
    "###### It is clear that for above columns leads have left the option as \"Select\" without choosing any value."
   ]
  },
  {
   "cell_type": "code",
   "execution_count": 13,
   "id": "60bae72a",
   "metadata": {},
   "outputs": [
    {
     "name": "stdout",
     "output_type": "stream",
     "text": [
      "\" Specialization \" column has 24.891053576006154 Select values\n",
      "\" How did you hear about X Education \" column has 71.70482013365562 Select values\n",
      "\" Lead Profile \" column has 63.481855764813965 Select values\n",
      "\" City \" column has 28.759590792838875 Select values\n"
     ]
    }
   ],
   "source": [
    "# 1. Lets analyze what percentage of the above columns have Select as value\n",
    "# 2. Impute select with Nan as we do not know what the actual value for the user is if 'Select' % is high\n",
    "\n",
    "\n",
    "for categorical_column in categorical_column_with_select_value:\n",
    "    print('\"',categorical_column, '\" column has', leads[[categorical_column]].value_counts(normalize=True)['Select']*100, 'Select values')\n",
    "\n",
    "\n"
   ]
  },
  {
   "cell_type": "markdown",
   "id": "df70baf5",
   "metadata": {},
   "source": [
    "###### Impute select values with NaN and then drop columns having null values >= 45%"
   ]
  },
  {
   "cell_type": "code",
   "execution_count": 14,
   "id": "2bd761b6",
   "metadata": {},
   "outputs": [],
   "source": [
    "#Lets impute \"Select\" values with NaN\n",
    "\n",
    "leads[categorical_column_with_select_value] = leads[categorical_column_with_select_value].replace('Select', np.nan)\n"
   ]
  },
  {
   "cell_type": "code",
   "execution_count": 15,
   "id": "7cf90164",
   "metadata": {},
   "outputs": [
    {
     "name": "stdout",
     "output_type": "stream",
     "text": [
      "Number of null columns having null % between 20 and 30 are  3\n",
      "Number of null columns having null % between 30 and 40 are  3\n",
      "Number of null columns having null >= 40% are  7\n"
     ]
    }
   ],
   "source": [
    "#Now lets analyze null percentage again and drop columns having > 45% null values\n",
    "\n",
    "leads_null_columns_after_select_imputation = (leads.isnull().sum()/len(leads.index))*100\n",
    "print('Number of null columns having null % between 20 and 30 are ', len(leads_null_columns_after_select_imputation[(leads_null_columns_after_select_imputation >= 20) & (leads_null_columns_after_select_imputation <= 30)]))\n",
    "print('Number of null columns having null % between 30 and 40 are ', len(leads_null_columns_after_select_imputation[(leads_null_columns_after_select_imputation >= 30) & (leads_null_columns_after_select_imputation < 40)]))\n",
    "print('Number of null columns having null >= 40% are ', len(leads_null_columns_after_select_imputation[(leads_null_columns_after_select_imputation >= 40)]))\n"
   ]
  },
  {
   "cell_type": "markdown",
   "id": "a7b1ed59",
   "metadata": {},
   "source": [
    "###### We clearly see that after imputing Select with NaN number of columns having null values >= 40 % increased from 5 to 7. Lets drop these columns"
   ]
  },
  {
   "cell_type": "code",
   "execution_count": 17,
   "id": "d4de4286",
   "metadata": {},
   "outputs": [
    {
     "data": {
      "text/plain": [
       "How did you hear about X Education    78.463203\n",
       "Lead Quality                          51.590909\n",
       "Lead Profile                          74.188312\n",
       "Asymmetrique Activity Index           45.649351\n",
       "Asymmetrique Profile Index            45.649351\n",
       "Asymmetrique Activity Score           45.649351\n",
       "Asymmetrique Profile Score            45.649351\n",
       "dtype: float64"
      ]
     },
     "execution_count": 17,
     "metadata": {},
     "output_type": "execute_result"
    }
   ],
   "source": [
    "#Columns having gte 40% null values\n",
    "\n",
    "columns_with_gte_40_pct_null_values = leads_null_columns_after_select_imputation[(leads_null_columns_after_select_imputation >= 40)]\n",
    "columns_with_gte_40_pct_null_values"
   ]
  },
  {
   "cell_type": "code",
   "execution_count": 18,
   "id": "f08ae1cc",
   "metadata": {},
   "outputs": [
    {
     "data": {
      "text/plain": [
       "City                                             39.707792\n",
       "Specialization                                   36.580087\n",
       "Tags                                             36.287879\n",
       "What matters most to you in choosing a course    29.318182\n",
       "What is your current occupation                  29.112554\n",
       "Country                                          26.634199\n",
       "TotalVisits                                       1.482684\n",
       "Page Views Per Visit                              1.482684\n",
       "Last Activity                                     1.114719\n",
       "Lead Source                                       0.389610\n",
       "Receive More Updates About Our Courses            0.000000\n",
       "Update me on Supply Chain Content                 0.000000\n",
       "Lead Origin                                       0.000000\n",
       "Digital Advertisement                             0.000000\n",
       "Get updates on DM Content                         0.000000\n",
       "I agree to pay the amount through cheque          0.000000\n",
       "A free copy of Mastering The Interview            0.000000\n",
       "Through Recommendations                           0.000000\n",
       "Magazine                                          0.000000\n",
       "Newspaper                                         0.000000\n",
       "X Education Forums                                0.000000\n",
       "Newspaper Article                                 0.000000\n",
       "Search                                            0.000000\n",
       "Total Time Spent on Website                       0.000000\n",
       "Converted                                         0.000000\n",
       "Do Not Call                                       0.000000\n",
       "Do Not Email                                      0.000000\n",
       "Last Notable Activity                             0.000000\n",
       "dtype: float64"
      ]
     },
     "execution_count": 18,
     "metadata": {},
     "output_type": "execute_result"
    }
   ],
   "source": [
    "leads.drop(columns_with_gte_40_pct_null_values.keys(), axis=1, inplace=True)\n",
    "((leads.isnull().sum()/len(leads.index))*100).sort_values(ascending=False)"
   ]
  },
  {
   "cell_type": "markdown",
   "id": "9bcda225",
   "metadata": {},
   "source": [
    "## 3. Missing(null) value treatment and Dropping columns "
   ]
  },
  {
   "cell_type": "markdown",
   "id": "22bd0294",
   "metadata": {},
   "source": [
    "### 3.1 Numerical Columns - Missing value tratement and dropping of columns that are not useful for analysis"
   ]
  },
  {
   "cell_type": "code",
   "execution_count": 19,
   "id": "45fc42b2",
   "metadata": {},
   "outputs": [
    {
     "data": {
      "text/plain": [
       "['Converted',\n",
       " 'TotalVisits',\n",
       " 'Total Time Spent on Website',\n",
       " 'Page Views Per Visit']"
      ]
     },
     "execution_count": 19,
     "metadata": {},
     "output_type": "execute_result"
    }
   ],
   "source": [
    "#Numeric columns list\n",
    "\n",
    "numeric_columns = leads.select_dtypes(include=np.number).columns.tolist()\n",
    "numeric_columns"
   ]
  },
  {
   "cell_type": "code",
   "execution_count": 21,
   "id": "5400688e",
   "metadata": {},
   "outputs": [
    {
     "name": "stdout",
     "output_type": "stream",
     "text": [
      "<class 'pandas.core.frame.DataFrame'>\n",
      "Int64Index: 9240 entries, 0 to 9239\n",
      "Data columns (total 4 columns):\n",
      " #   Column                       Non-Null Count  Dtype  \n",
      "---  ------                       --------------  -----  \n",
      " 0   Converted                    9240 non-null   int64  \n",
      " 1   TotalVisits                  9103 non-null   float64\n",
      " 2   Total Time Spent on Website  9240 non-null   int64  \n",
      " 3   Page Views Per Visit         9103 non-null   float64\n",
      "dtypes: float64(2), int64(2)\n",
      "memory usage: 360.9 KB\n"
     ]
    }
   ],
   "source": [
    "leads[numeric_columns].info()"
   ]
  },
  {
   "cell_type": "markdown",
   "id": "e6b87c84",
   "metadata": {},
   "source": [
    "######  It is clear that Converted and Total Time Spent on Website have 0 null values.\n",
    "###### TotalVisits and  Page Views Per Visit  have total 9240-9103 = 137 missing values that accounts to just  1.482% missing values so we wil  perform only imputation for these columns \n",
    "###### Before replacing missing values let us analyze the spread of numerical columns , see if it has outliers  and then decide on what to use for missing values -> mean or median."
   ]
  },
  {
   "cell_type": "code",
   "execution_count": 22,
   "id": "8733b683",
   "metadata": {},
   "outputs": [
    {
     "data": {
      "text/plain": [
       "array([0, 1], dtype=int64)"
      ]
     },
     "execution_count": 22,
     "metadata": {},
     "output_type": "execute_result"
    }
   ],
   "source": [
    "#Converted is our target column and hence will be exempt from EDA. However, we will just do a sanity check that unique values are\n",
    "# only 0 and 1.\n",
    "leads['Converted'].unique()"
   ]
  },
  {
   "cell_type": "markdown",
   "id": "e93b2a91",
   "metadata": {},
   "source": [
    "###### Boxplot for numerical columns"
   ]
  },
  {
   "cell_type": "code",
   "execution_count": 23,
   "id": "8b2d6bed",
   "metadata": {},
   "outputs": [
    {
     "data": {
      "image/png": "[encoded data removed]",
      "text/plain": [
       "<Figure size 1368x720 with 3 Axes>"
      ]
     },
     "metadata": {},
     "output_type": "display_data"
    }
   ],
   "source": [
    "# Build boxplot of all numerical variables except Target\n",
    "# Build boxplot of all numerical variables \n",
    "\n",
    "sns.set_style(\"whitegrid\")\n",
    "\n",
    "plt.figure(figsize=(19, 10))\n",
    "plt.subplot(1,3,1)\n",
    "tv = sns.boxplot(y = 'TotalVisits', data = leads)\n",
    "tv.set_ylabel(\"Total Visits\",fontsize=15)\n",
    "tv.tick_params(labelsize=12)\n",
    "plt.subplot(1,3,2)\n",
    "tts = sns.boxplot(y = 'Total Time Spent on Website', data = leads)\n",
    "tts.set_ylabel(\"Total Time Spent on Website\",fontsize=15)\n",
    "tts.tick_params(labelsize=12)\n",
    "plt.subplot(1,3,3)\n",
    "pvpv = sns.boxplot(y = 'Page Views Per Visit', data = leads)\n",
    "pvpv.set_ylabel(\"Page Views Per Visit\",fontsize=15)\n",
    "pvpv.tick_params(labelsize=12)\n",
    "plt.show()"
   ]
  },
  {
   "cell_type": "markdown",
   "id": "c94adae9",
   "metadata": {},
   "source": [
    "######  lets analyze the percentiles"
   ]
  },
  {
   "cell_type": "code",
   "execution_count": 24,
   "id": "f2438273",
   "metadata": {},
   "outputs": [
    {
     "data": {
      "text/html": [
       "<div>\n",
       "<style scoped>\n",
       "    .dataframe tbody tr th:only-of-type {\n",
       "        vertical-align: middle;\n",
       "    }\n",
       "\n",
       "    .dataframe tbody tr th {\n",
       "        vertical-align: top;\n",
       "    }\n",
       "\n",
       "    .dataframe thead th {\n",
       "        text-align: right;\n",
       "    }\n",
       "</style>\n",
       "<table border=\"1\" class=\"dataframe\">\n",
       "  <thead>\n",
       "    <tr style=\"text-align: right;\">\n",
       "      <th></th>\n",
       "      <th>Converted</th>\n",
       "      <th>TotalVisits</th>\n",
       "      <th>Total Time Spent on Website</th>\n",
       "      <th>Page Views Per Visit</th>\n",
       "    </tr>\n",
       "  </thead>\n",
       "  <tbody>\n",
       "    <tr>\n",
       "      <th>count</th>\n",
       "      <td>9240.000000</td>\n",
       "      <td>9103.000000</td>\n",
       "      <td>9240.000000</td>\n",
       "      <td>9103.000000</td>\n",
       "    </tr>\n",
       "    <tr>\n",
       "      <th>mean</th>\n",
       "      <td>0.385390</td>\n",
       "      <td>3.445238</td>\n",
       "      <td>487.698268</td>\n",
       "      <td>2.362820</td>\n",
       "    </tr>\n",
       "    <tr>\n",
       "      <th>std</th>\n",
       "      <td>0.486714</td>\n",
       "      <td>4.854853</td>\n",
       "      <td>548.021466</td>\n",
       "      <td>2.161418</td>\n",
       "    </tr>\n",
       "    <tr>\n",
       "      <th>min</th>\n",
       "      <td>0.000000</td>\n",
       "      <td>0.000000</td>\n",
       "      <td>0.000000</td>\n",
       "      <td>0.000000</td>\n",
       "    </tr>\n",
       "    <tr>\n",
       "      <th>5%</th>\n",
       "      <td>0.000000</td>\n",
       "      <td>0.000000</td>\n",
       "      <td>0.000000</td>\n",
       "      <td>0.000000</td>\n",
       "    </tr>\n",
       "    <tr>\n",
       "      <th>10%</th>\n",
       "      <td>0.000000</td>\n",
       "      <td>0.000000</td>\n",
       "      <td>0.000000</td>\n",
       "      <td>0.000000</td>\n",
       "    </tr>\n",
       "    <tr>\n",
       "      <th>25%</th>\n",
       "      <td>0.000000</td>\n",
       "      <td>1.000000</td>\n",
       "      <td>12.000000</td>\n",
       "      <td>1.000000</td>\n",
       "    </tr>\n",
       "    <tr>\n",
       "      <th>50%</th>\n",
       "      <td>0.000000</td>\n",
       "      <td>3.000000</td>\n",
       "      <td>248.000000</td>\n",
       "      <td>2.000000</td>\n",
       "    </tr>\n",
       "    <tr>\n",
       "      <th>75%</th>\n",
       "      <td>1.000000</td>\n",
       "      <td>5.000000</td>\n",
       "      <td>936.000000</td>\n",
       "      <td>3.000000</td>\n",
       "    </tr>\n",
       "    <tr>\n",
       "      <th>90%</th>\n",
       "      <td>1.000000</td>\n",
       "      <td>7.000000</td>\n",
       "      <td>1380.000000</td>\n",
       "      <td>5.000000</td>\n",
       "    </tr>\n",
       "    <tr>\n",
       "      <th>95%</th>\n",
       "      <td>1.000000</td>\n",
       "      <td>10.000000</td>\n",
       "      <td>1562.000000</td>\n",
       "      <td>6.000000</td>\n",
       "    </tr>\n",
       "    <tr>\n",
       "      <th>99%</th>\n",
       "      <td>1.000000</td>\n",
       "      <td>17.000000</td>\n",
       "      <td>1840.610000</td>\n",
       "      <td>9.000000</td>\n",
       "    </tr>\n",
       "    <tr>\n",
       "      <th>max</th>\n",
       "      <td>1.000000</td>\n",
       "      <td>251.000000</td>\n",
       "      <td>2272.000000</td>\n",
       "      <td>55.000000</td>\n",
       "    </tr>\n",
       "  </tbody>\n",
       "</table>\n",
       "</div>"
      ],
      "text/plain": [
       "         Converted  TotalVisits  Total Time Spent on Website  \\\n",
       "count  9240.000000  9103.000000                  9240.000000   \n",
       "mean      0.385390     3.445238                   487.698268   \n",
       "std       0.486714     4.854853                   548.021466   \n",
       "min       0.000000     0.000000                     0.000000   \n",
       "5%        0.000000     0.000000                     0.000000   \n",
       "10%       0.000000     0.000000                     0.000000   \n",
       "25%       0.000000     1.000000                    12.000000   \n",
       "50%       0.000000     3.000000                   248.000000   \n",
       "75%       1.000000     5.000000                   936.000000   \n",
       "90%       1.000000     7.000000                  1380.000000   \n",
       "95%       1.000000    10.000000                  1562.000000   \n",
       "99%       1.000000    17.000000                  1840.610000   \n",
       "max       1.000000   251.000000                  2272.000000   \n",
       "\n",
       "       Page Views Per Visit  \n",
       "count           9103.000000  \n",
       "mean               2.362820  \n",
       "std                2.161418  \n",
       "min                0.000000  \n",
       "5%                 0.000000  \n",
       "10%                0.000000  \n",
       "25%                1.000000  \n",
       "50%                2.000000  \n",
       "75%                3.000000  \n",
       "90%                5.000000  \n",
       "95%                6.000000  \n",
       "99%                9.000000  \n",
       "max               55.000000  "
      ]
     },
     "execution_count": 24,
     "metadata": {},
     "output_type": "execute_result"
    }
   ],
   "source": [
    "#Checking the detailed percentile values\n",
    "leads.describe(percentiles=[0.05,.10,.25,.50,.75,.90,.95,.99])"
   ]
  },
  {
   "cell_type": "markdown",
   "id": "b11777da",
   "metadata": {},
   "source": [
    "###### From above we can see that there is a gradual increase in values from 95% to 99%, but from 99% to max, the increase is huge.\n",
    "\n"
   ]
  },
  {
   "cell_type": "code",
   "execution_count": null,
   "id": "cb6acdd6",
   "metadata": {},
   "outputs": [],
   "source": [
    "print(\"Total number of rows above 95 percentile for TotalVisits column:\",len(leads[leads['TotalVisits'] >= leads['TotalVisits'].quantile(0.95)]))\n",
    "print(\"Total number of rows above 95 percentile for Page Views Per Visit column:\",len(leads[leads['Page Views Per Visit'] >= leads['Page Views Per Visit'].quantile(0.95)]))"
   ]
  },
  {
   "cell_type": "code",
   "execution_count": null,
   "id": "d48aca87",
   "metadata": {},
   "outputs": [],
   "source": [
    "print(\"Total number of rows above 99 percentile for TotalVisits column:\",len(leads[leads['TotalVisits'] >= leads['TotalVisits'].quantile(0.99)]))\n",
    "print(\"Total number of rows above 99 percentile for Page Views Per Visit column:\",len(leads[leads['Page Views Per Visit'] >= leads['Page Views Per Visit'].quantile(0.99)]))"
   ]
  },
  {
   "cell_type": "code",
   "execution_count": null,
   "id": "c329fb79",
   "metadata": {},
   "outputs": [],
   "source": [
    "#Capping the data at 95% percentile since the number of rows at 95% is  significantly less\n",
    "leads.loc[leads['TotalVisits'] >= leads['TotalVisits'].quantile(0.95), 'TotalVisits'] = leads['TotalVisits'].quantile(0.95) # outlier capping\n",
    "leads.loc[leads['Page Views Per Visit'] >= leads['Page Views Per Visit'].quantile(0.95), 'Page Views Per Visit'] = leads['Page Views Per Visit'].quantile(0.95) # outlier capping"
   ]
  },
  {
   "cell_type": "markdown",
   "id": "26cc771f",
   "metadata": {},
   "source": [
    "###### We will replace null values in  TotalVisits and Page Views Per Visit  with their median values as there are outliers as can be seen in percentiles table and box plot"
   ]
  },
  {
   "cell_type": "code",
   "execution_count": 25,
   "id": "f2cf4f50",
   "metadata": {},
   "outputs": [
    {
     "name": "stdout",
     "output_type": "stream",
     "text": [
      "number of null values in TotalVisits columns 0\n",
      "number of null values in Page Views Per Visit columns 0\n"
     ]
    }
   ],
   "source": [
    "#Also since now we have a better understadning of numerical data, since there are outliers and we are only capping but not deleting\n",
    "#them we wil replace null values for TotalVisits and Page Views Per Visit  with median\n",
    "\n",
    "leads['TotalVisits'].fillna(leads['TotalVisits'].median(), inplace=True)\n",
    "print('number of null values in TotalVisits columns', leads['TotalVisits'].isnull().sum())\n",
    "\n",
    "leads['Page Views Per Visit'].fillna(leads['Page Views Per Visit'].median(), inplace=True)\n",
    "print('number of null values in Page Views Per Visit columns', leads['Page Views Per Visit'].isnull().sum())"
   ]
  },
  {
   "cell_type": "code",
   "execution_count": null,
   "id": "45a0bcc8",
   "metadata": {},
   "outputs": [],
   "source": [
    "plt.figure(figsize=(19, 10))\n",
    "plt.subplot(1,3,1)\n",
    "tv = sns.boxplot(y = 'TotalVisits', data = leads)\n",
    "tv.set_ylabel(\"Total Visits\",fontsize=15)\n",
    "tv.tick_params(labelsize=12)\n",
    "plt.subplot(1,3,2)\n",
    "tts = sns.boxplot(y = 'Total Time Spent on Website', data = leads)\n",
    "tts.set_ylabel(\"Total Time Spent on Website\",fontsize=15)\n",
    "tts.tick_params(labelsize=12)\n",
    "plt.subplot(1,3,3)\n",
    "pvpv = sns.boxplot(y = 'Page Views Per Visit', data = leads)\n",
    "pvpv.set_ylabel(\"Page Views Per Visit\",fontsize=15)\n",
    "pvpv.tick_params(labelsize=12)\n",
    "plt.show()"
   ]
  },
  {
   "cell_type": "code",
   "execution_count": 26,
   "id": "b1b1e6a0",
   "metadata": {},
   "outputs": [
    {
     "name": "stdout",
     "output_type": "stream",
     "text": [
      "<class 'pandas.core.frame.DataFrame'>\n",
      "Int64Index: 9240 entries, 0 to 9239\n",
      "Data columns (total 4 columns):\n",
      " #   Column                       Non-Null Count  Dtype  \n",
      "---  ------                       --------------  -----  \n",
      " 0   Converted                    9240 non-null   int64  \n",
      " 1   TotalVisits                  9240 non-null   float64\n",
      " 2   Total Time Spent on Website  9240 non-null   int64  \n",
      " 3   Page Views Per Visit         9240 non-null   float64\n",
      "dtypes: float64(2), int64(2)\n",
      "memory usage: 360.9 KB\n"
     ]
    }
   ],
   "source": [
    "#Now lets again check for null values.\n",
    "\n",
    "leads[numeric_columns].info()"
   ]
  },
  {
   "cell_type": "markdown",
   "id": "a954ed15",
   "metadata": {},
   "source": [
    "###### From above boxplots, We see that null values are handled."
   ]
  },
  {
   "cell_type": "markdown",
   "id": "1fe4a54f",
   "metadata": {},
   "source": [
    "###### From above we can conclude that all null values are handled for numeric columns"
   ]
  },
  {
   "cell_type": "markdown",
   "id": "a3640e72",
   "metadata": {},
   "source": [
    "### 3.2 Categorical  Columns - Null value tratement and dropping of columns that are not useful for analysis"
   ]
  },
  {
   "cell_type": "markdown",
   "id": "61ca5b18",
   "metadata": {},
   "source": [
    "#####  Lets drop categorical columns that have only 1 value because they will result in a skewed analysis if not dropped and as well it will reduce the number of columns we have to analyze further"
   ]
  },
  {
   "cell_type": "code",
   "execution_count": 27,
   "id": "a5131078",
   "metadata": {},
   "outputs": [
    {
     "name": "stdout",
     "output_type": "stream",
     "text": [
      "Number of single category columns are : 5\n",
      "\n",
      "Single category columns are : ['Magazine', 'Receive More Updates About Our Courses', 'Update me on Supply Chain Content', 'Get updates on DM Content', 'I agree to pay the amount through cheque']\n",
      "\n",
      "Number of columns in Leads dataframe before dropping single category columns are  28\n",
      "\n",
      "Number of columns in Leads dataframe after dropping single category columns are  23\n"
     ]
    }
   ],
   "source": [
    "categorical_columns = leads.select_dtypes(include=['object']).columns.tolist() # Getting all categorical columns\n",
    "single_category_columns = [] # this is a list which will have catgeorical columns that have only 1 category.\n",
    "for column in categorical_columns:\n",
    "    if(len(leads[column].unique()) == 1):\n",
    "        single_category_columns.append(column)\n",
    "\n",
    "print('Number of single category columns are :', len(single_category_columns))\n",
    "print()\n",
    "print('Single category columns are :', single_category_columns) \n",
    "print()\n",
    "dimension = leads.shape\n",
    "print('Number of columns in Leads dataframe before dropping single category columns are ', dimension[1])\n",
    "print()\n",
    "leads.drop(single_category_columns,1,inplace = True)   \n",
    "dimension = leads.shape\n",
    "print('Number of columns in Leads dataframe after dropping single category columns are ', dimension[1])"
   ]
  },
  {
   "cell_type": "markdown",
   "id": "a0c464fb",
   "metadata": {},
   "source": [
    "#####  Lets drop categorical columns that have >= 90% values that belong to 1 category because they will result in a skewed analysis if not dropped and as well it will reduce the number of columns we have to analyze further"
   ]
  },
  {
   "cell_type": "code",
   "execution_count": 28,
   "id": "62a3c828",
   "metadata": {},
   "outputs": [
    {
     "name": "stdout",
     "output_type": "stream",
     "text": [
      "Number of  columns having >= 90% values in one category are : 8\n",
      "\n",
      "columns having >= 90% values in one category are : ['Do Not Email', 'Do Not Call', 'Search', 'Newspaper Article', 'X Education Forums', 'Newspaper', 'Digital Advertisement', 'Through Recommendations']\n",
      "\n",
      "Number of columns in Leads dataframe before dropping columns having >= 90% values in one categor are  23\n",
      "\n",
      "Number of columns in Leads dataframe after dropping columns having >= 90% values in one categor columns are  15\n"
     ]
    }
   ],
   "source": [
    "categorical_columns = leads.select_dtypes(include=['object']).columns.tolist()\n",
    "columns_having_1_category_gte_90_pct = []\n",
    "for column in categorical_columns:\n",
    "    if((leads[column].value_counts(dropna=False,normalize=True)*100)[0] >= 90):\n",
    "        columns_having_1_category_gte_90_pct.append(column)\n",
    "        \n",
    "print('Number of  columns having >= 90% values in one category are :', len(columns_having_1_category_gte_90_pct))\n",
    "print()\n",
    "print('columns having >= 90% values in one category are :', columns_having_1_category_gte_90_pct) \n",
    "print()\n",
    "dimension = leads.shape\n",
    "print('Number of columns in Leads dataframe before dropping columns having >= 90% values in one categor are ', dimension[1])\n",
    "print()\n",
    "leads.drop(columns_having_1_category_gte_90_pct,1,inplace = True)   \n",
    "dimension = leads.shape\n",
    "print('Number of columns in Leads dataframe after dropping columns having >= 90% values in one categor columns are ', dimension[1])"
   ]
  },
  {
   "cell_type": "markdown",
   "id": "4a8b701e",
   "metadata": {},
   "source": [
    "######  Replace null values with mode for categorical columns"
   ]
  },
  {
   "cell_type": "code",
   "execution_count": 30,
   "id": "af78d216",
   "metadata": {},
   "outputs": [
    {
     "data": {
      "text/plain": [
       "['Lead Source',\n",
       " 'Last Activity',\n",
       " 'Country',\n",
       " 'Specialization',\n",
       " 'What is your current occupation',\n",
       " 'What matters most to you in choosing a course',\n",
       " 'Tags',\n",
       " 'City']"
      ]
     },
     "execution_count": 30,
     "metadata": {},
     "output_type": "execute_result"
    }
   ],
   "source": [
    "categorical_columns = leads.select_dtypes(include=['object']).columns.tolist()\n",
    "null_columns = []\n",
    "for column in categorical_columns:\n",
    "    if(((leads[column].isnull().sum() / leads.shape[0]) * 100) > 0):\n",
    "        null_columns.append(column)\n",
    "null_columns"
   ]
  },
  {
   "cell_type": "code",
   "execution_count": 31,
   "id": "90ca7065",
   "metadata": {},
   "outputs": [
    {
     "data": {
      "text/plain": [
       "Lead Origin                                      0.0\n",
       "Lead Source                                      0.0\n",
       "Last Activity                                    0.0\n",
       "Country                                          0.0\n",
       "Specialization                                   0.0\n",
       "What is your current occupation                  0.0\n",
       "What matters most to you in choosing a course    0.0\n",
       "Tags                                             0.0\n",
       "City                                             0.0\n",
       "A free copy of Mastering The Interview           0.0\n",
       "Last Notable Activity                            0.0\n",
       "dtype: float64"
      ]
     },
     "execution_count": 31,
     "metadata": {},
     "output_type": "execute_result"
    }
   ],
   "source": [
    "for column in null_columns:\n",
    "    leads[column].fillna(leads[column].mode()[0], inplace=True)\n",
    "    \n",
    "#Verify there are no null values\n",
    "categorical_columns_sorted = ((leads[categorical_columns].isnull().sum() / leads.shape[0]) * 100).sort_values(ascending=False)\n",
    "categorical_columns_sorted"
   ]
  },
  {
   "cell_type": "markdown",
   "id": "0ab3f7dd",
   "metadata": {},
   "source": [
    "######  From above we can see that null percentages are less than 40%, so we will not drop these columns that have null values but will impute them."
   ]
  },
  {
   "cell_type": "markdown",
   "id": "3e33f4c1",
   "metadata": {},
   "source": [
    "###### Lets analyze these columns individually take to make a sound decision on how to impute null values and which columns can be dropped"
   ]
  },
  {
   "cell_type": "code",
   "execution_count": null,
   "id": "5abaeb98",
   "metadata": {},
   "outputs": [],
   "source": [
    "#lets check the shape again\n",
    "dimension = leads.shape\n",
    "print('Number of rows in Leads dataframe are ', dimension[0])\n",
    "print('Number of columns in Leads dataframe are ', dimension[1])\n"
   ]
  },
  {
   "cell_type": "markdown",
   "id": "a5aa5925",
   "metadata": {},
   "source": [
    "###### We have total 15 columns and 9240 rows."
   ]
  },
  {
   "cell_type": "markdown",
   "id": "24d8d49e",
   "metadata": {},
   "source": [
    "###### Lets rename lengthy column names to meaningful short names"
   ]
  },
  {
   "cell_type": "code",
   "execution_count": null,
   "id": "cd74ca7b",
   "metadata": {},
   "outputs": [],
   "source": [
    "leads.rename(columns={'What is your current occupation': 'Occupation', \n",
    "                     'A free copy of Mastering The Interview': 'Free Interview Study Copy'                   \n",
    "                    },inplace = True)"
   ]
  },
  {
   "cell_type": "markdown",
   "id": "1ffb365f",
   "metadata": {},
   "source": [
    "###### Thus we have reduced the number of columns to 13 and also have imputed such that there are no null values. Hence can proceed to check data imblance and univariate and bivariate analysis"
   ]
  },
  {
   "cell_type": "code",
   "execution_count": null,
   "id": "064eb1bd",
   "metadata": {},
   "outputs": [],
   "source": [
    "leads.select_dtypes(include=['object']).columns.tolist()"
   ]
  },
  {
   "cell_type": "markdown",
   "id": "db832bf1",
   "metadata": {},
   "source": [
    "## 4. Checking for Data Imblanace"
   ]
  },
  {
   "cell_type": "code",
   "execution_count": null,
   "id": "010b5e5a",
   "metadata": {},
   "outputs": [],
   "source": [
    "data_imbalance = (leads['Converted'].value_counts()/leads.shape[0])*100\n",
    "data_imbalance"
   ]
  },
  {
   "cell_type": "code",
   "execution_count": null,
   "id": "91e0a5ae",
   "metadata": {},
   "outputs": [],
   "source": [
    "plt.figure(figsize=[20,6])\n",
    "plt.style.use('fivethirtyeight')\n",
    "plt.pie(leads['Converted'].value_counts(),autopct='%1.0f%%',labels=['No','Yes'],                                                explode=(0,0.05),colors = ['Orange','Pink'])\n",
    "plt.title('\"Converted\" Variable data imbalance')\n",
    "plt.legend()\n",
    "plt.show()"
   ]
  },
  {
   "cell_type": "markdown",
   "id": "37621da5",
   "metadata": {},
   "source": [
    "### 4.1 Univariate Categorical Analysis"
   ]
  },
  {
   "cell_type": "code",
   "execution_count": null,
   "id": "4100a73d",
   "metadata": {},
   "outputs": [],
   "source": [
    "categorical_columns = leads.select_dtypes(exclude=['number']).columns.tolist()\n",
    "print('Number of categorical columns ara ', len(categorical_columns))\n",
    "categorical_columns"
   ]
  },
  {
   "cell_type": "markdown",
   "id": "6c18357b",
   "metadata": {},
   "source": [
    "######  Dataset has the above categorical columns"
   ]
  },
  {
   "cell_type": "markdown",
   "id": "1f959f99",
   "metadata": {},
   "source": [
    "#### Below is a common fucntion to plot categorical variable"
   ]
  },
  {
   "cell_type": "code",
   "execution_count": null,
   "id": "07a16b7b",
   "metadata": {},
   "outputs": [],
   "source": [
    "def plot_cc(df,columnName,title,rotation) :\n",
    "    \n",
    "    sns.despine \n",
    "    plt.figure(figsize=(20,10))\n",
    "    plt.subplot(1,2,1)\n",
    "    \n",
    "    perc_defaulted = df[[columnName, 'Converted']].groupby([columnName],as_index=False).mean()\n",
    "    perc_defaulted[\"Converted\"] = perc_defaulted[\"Converted\"]*100\n",
    "    perc_defaulted.sort_values(by='Converted', ascending=False, inplace=True)\n",
    "    \n",
    "    ax1= sns.countplot(x = columnName, data=df,hue='Converted',order=df[columnName].value_counts().index)\n",
    "    ax1.set_title(f'{title} count', fontsize = 15, weight='bold')\n",
    "    ax1.set_xticklabels(ax1.get_xticklabels(), rotation=30, ha='right')\n",
    "    ax1.set_ylabel('Count', fontsize=15,weight='bold')\n",
    "    ax1.set_xlabel(columnName, fontsize=15,weight='bold')\n",
    "    ax1.legend(['Non Converted','Converted'],loc = \"upper right\")\n",
    "     \n",
    "    plt.subplot(1,2,2)\n",
    "    ax2=sns.barplot(data = df, x = columnName, y = 'Converted',order = perc_defaulted[columnName],ci=None)\n",
    "    plt.gca().set_yticklabels(['{:.0f}%'.format(x*100) for x in plt.gca().get_yticks()]) \n",
    "    ax2.set_title(f'Converted % for {title}', fontsize = 15,weight='bold')\n",
    "    ax2.set_xticklabels(ax2.get_xticklabels(), rotation=30, ha='right')\n",
    "    ax2.set_xlabel(columnName, fontsize=15,weight='bold')\n",
    "    ax2.set_ylabel('Converted percentage', fontsize=15,weight='bold')\n",
    "\n",
    "    ax1.tick_params(axis='both', labelsize=15)\n",
    "    ax2.tick_params(axis='both', labelsize=15)\n",
    "    \n",
    "    \n",
    "    bars = ax1.patches\n",
    "    half = int(len(bars)/2)\n",
    "    left_bars = bars[:half]\n",
    "    right_bars = bars[half:]\n",
    "    \n",
    "    for left, right in zip(left_bars, right_bars):\n",
    "            height_l = left.get_height()\n",
    "            height_r = right.get_height()\n",
    "            total = height_l + height_r\n",
    "            \n",
    "            \n",
    "            ax1.annotate('{0}'.format(height_l), (left.get_x() + left.get_width()/2., height_l),\n",
    "                    ha='center', va='bottom',\n",
    "                    color= 'black',rotation=rotation)\n",
    "            ax1.annotate('{0}'.format(height_r), (right.get_x() + left.get_width()/2., height_r),\n",
    "                    ha='center', va='bottom',\n",
    "                    color= 'black',rotation=rotation)\n",
    "            \n",
    "    bars_2 = ax2.patches\n",
    "    half2 = int(len(bars_2)/2)\n",
    "    left_bars = bars_2[:half2]\n",
    "    right_bars = bars_2[half2:]\n",
    "    \n",
    "    for left, right in zip(left_bars, right_bars):\n",
    "            height_l = left.get_height()\n",
    "            height_r = right.get_height()\n",
    "            total = height_l + height_r\n",
    "\n",
    "            #ax2.text(left.get_x() + left.get_width()/2., height_l,'{0:.0%}'.format(height_l), ha=\"center\")\n",
    "            #ax2.text(right.get_x() + right.get_width()/2., height_r, '{0:.0%}'.format(height_r), ha=\"center\")\n",
    "            \n",
    "            ax2.annotate('{0:.0%}'.format(height_l), (left.get_x() + left.get_width()/2., height_l),\n",
    "                    ha='center', va='bottom',\n",
    "                    color= 'black',rotation=rotation)\n",
    "            ax2.annotate('{0:.0%}'.format(height_r), (right.get_x() + left.get_width()/2., height_r),\n",
    "                    ha='center', va='bottom',\n",
    "                    color= 'black',rotation=rotation)\n",
    "            \n",
    "            \n",
    "            \n",
    "    \n",
    "    \n",
    "    plt.tight_layout()\n",
    "    plt.show()"
   ]
  },
  {
   "cell_type": "markdown",
   "id": "aeaafac0",
   "metadata": {},
   "source": [
    "###### Lead Origin"
   ]
  },
  {
   "cell_type": "code",
   "execution_count": null,
   "id": "4875bdaf",
   "metadata": {},
   "outputs": [],
   "source": [
    "plot_cc(leads,'Lead Origin','Lead Origin',0)"
   ]
  },
  {
   "cell_type": "markdown",
   "id": "94e638be",
   "metadata": {},
   "source": [
    "######  Inferences from 'Lead Origin' graphs\n",
    "**1. Quick Add Form has the least count but it got converted 100%**\n",
    "\n",
    "**2. Lead Add Form has only 718 entries but it has the second highest conversion rate of about 92%**\n",
    "\n",
    "**3. Landing Page submission has the highest number but it is third in conversion rate about 36%**\n",
    "\n",
    "**4. API design is second highest number of lead origins but its conversion rate is only aout 31%**\n",
    "\n",
    "######  Insights\n",
    "\n",
    "**1. More leads should be generated from quick add form and lead add form as lead origins. These should be heavily used**\n",
    "\n",
    "**2. But since number of lead origina are highest in Landing page submission and API, lead conversion from these origins should be improved**\n"
   ]
  },
  {
   "cell_type": "markdown",
   "id": "43e652e0",
   "metadata": {},
   "source": [
    "###### Lead Source"
   ]
  },
  {
   "cell_type": "code",
   "execution_count": null,
   "id": "d87cb87b",
   "metadata": {},
   "outputs": [],
   "source": [
    "plot_cc(leads,'Lead Source','Lead Source',60)"
   ]
  },
  {
   "cell_type": "markdown",
   "id": "e352ba09",
   "metadata": {},
   "source": [
    "######  Inferences from 'Lead Source' graphs\n",
    "**1. NC_EDM, WeLearn, LiveChat have 100% conversion rate though they are the least in number.**\n",
    "\n",
    "\n",
    "**2. Google has the highest count and a conversion rate of about 40%**\n",
    "\n",
    "\n",
    "**3. Direct Traffic, Olark Chat, Organic Search are higher in number of all the sources but their conversion rate is 32%,26% \n",
    "and 36% respectively**\n",
    "\n",
    "\n",
    "**4. Welingak website accounts to only 142 leads but their conversion is 99%**\n",
    "\n",
    "\n",
    "**5. There are total 534 references and the conversion rate is 92%**\n",
    "\n",
    "\n",
    "\n",
    "\n",
    "######  Insights\n",
    "\n",
    "**1. Existing or past students/customers should be actively involved to give reference as references has a high conversion rate of about 92%**\n",
    "\n",
    "**2. Just 142 leads are from Welingak wesbite and they have 99% conversion rate - so definitely this source should be given weightage**\n",
    "\n",
    "\n"
   ]
  },
  {
   "cell_type": "markdown",
   "id": "e41c60be",
   "metadata": {},
   "source": [
    "###### Last Activity"
   ]
  },
  {
   "cell_type": "code",
   "execution_count": null,
   "id": "a23c27f3",
   "metadata": {},
   "outputs": [],
   "source": [
    "plot_cc(leads,'Last Activity','Last Activity',5)"
   ]
  },
  {
   "cell_type": "markdown",
   "id": "2fa16e8f",
   "metadata": {},
   "source": [
    "######  Inferences from 'Last Activity' graphs\n",
    "\n",
    "**1. Email opened is highest in count and its convertion rate is about 38%**\n",
    "\n",
    "\n",
    "**2. SMS sent issecond  highest in count and its convertion rate is about 63%**\n",
    "\n",
    "\n",
    "**3. 'Approached Upfront' has just 9 in count but has 100% convertion rate**\n",
    "\n",
    "\n",
    "**4. Though Email marked spam has 100% convertion the count is just 2 and we cannot make any inference from this for logical reasons**\n",
    "\n",
    "\n",
    "**5. All other activities except SMS sent and Email opened do not have much count and hence can be clubbed as one category**\n",
    "\n",
    "\n",
    "\n",
    "\n",
    "######  Insights\n",
    "\n",
    "**1. Email opened and SMS sent have a significant convertion rate in comparison to others**\n",
    "\n"
   ]
  },
  {
   "cell_type": "code",
   "execution_count": null,
   "id": "45054380",
   "metadata": {},
   "outputs": [],
   "source": [
    "plot_cc(leads,'Specialization','Specialization',36)"
   ]
  },
  {
   "cell_type": "markdown",
   "id": "ec2e5c74",
   "metadata": {},
   "source": [
    "###### **Inferences and Insights from 'Specialization' columns**\n",
    "\n",
    "**1. People whose specialization is 'Not Specified' have the least convertion rate**\n",
    "\n",
    "**2. Only 159 leads have Healthcare management as specialization but they have the highest convertion rate**\n",
    "\n",
    "**3. Banking, Insurance and Investment has 338 leads and its convertion rate is about 49%**\n",
    "\n",
    "**4. Management specializations have higher convertion rates from above graphs -  Marketing Management(838 leads, 49% convertion), Operations Management(538 leads, 47% converrtion), Human Resources Management(848 leads, 46% convertion)**\n",
    "\n",
    "**5.  Thus, we can say company can reach out to leads from Banking and Management specializations as they have very high convertion ratios**"
   ]
  },
  {
   "cell_type": "code",
   "execution_count": null,
   "id": "e64345d0",
   "metadata": {},
   "outputs": [],
   "source": [
    "plot_cc(leads,'Occupation','Occupation',0)"
   ]
  },
  {
   "cell_type": "markdown",
   "id": "0cab8c7d",
   "metadata": {},
   "source": [
    "###### **Inferences and Insights from 'Occupation' column**\n",
    "\n",
    "**1. Housewife are the least in count of leads but they have 100% (highest) convertion rate**\n",
    "\n",
    "**2. Working professional is the third highest count in leads but second highest in convertion rate**\n",
    "\n",
    "**3. Unemployed count is highest but their convertion rate is about 44%, so may be a discount after proper verification of unemployed status might increase lead convertion rate**\n",
    "\n",
    "**4. People who do not specify their occupation have the least number of converts so better to concentrate more on leads that specify an occupation type and on those occupations that have high convertion rates like housewife and working professionals**"
   ]
  },
  {
   "cell_type": "code",
   "execution_count": null,
   "id": "dbe92c3b",
   "metadata": {},
   "outputs": [],
   "source": [
    "plot_cc(leads,'Free Interview Study Copy','Free Interview Study Copy',0)"
   ]
  },
  {
   "cell_type": "markdown",
   "id": "1096dc3f",
   "metadata": {},
   "source": [
    "###### **Inferences and Insights from 'Free Interview Study Copy' column**\n",
    "\n",
    "**1. Free interview study copy has no much variation between number of leads that got converted for both its categories. So this will not help in the analysis and can be dropped'**"
   ]
  },
  {
   "cell_type": "code",
   "execution_count": null,
   "id": "c541b15c",
   "metadata": {},
   "outputs": [],
   "source": [
    "#drop the 'Free Interview Study Copy' column\n",
    "leads.drop('Free Interview Study Copy', 1, inplace = True)"
   ]
  },
  {
   "cell_type": "markdown",
   "id": "48c1c734",
   "metadata": {},
   "source": [
    "### 4.2 Univariate Numerical Analysis\n",
    "\n",
    "\n",
    "###### Will do univariate analysis for numeric columns based on 'Converted' variable"
   ]
  },
  {
   "cell_type": "code",
   "execution_count": null,
   "id": "7d1efa12",
   "metadata": {},
   "outputs": [],
   "source": [
    "print('numeric columns to be analyzed are -> ', numeric_columns)"
   ]
  },
  {
   "cell_type": "code",
   "execution_count": null,
   "id": "c18c2bcf",
   "metadata": {},
   "outputs": [],
   "source": [
    "# Sort the dataframe by target\n",
    "not_converted = leads.loc[leads['Converted'] == 0]\n",
    "converted = leads.loc[leads['Converted'] == 1]\n",
    "\n",
    "\n",
    "def plot_un(columnName,title):\n",
    "    plt.figure(figsize=(12,5))\n",
    "    plt.title(title)\n",
    "    sns.distplot(not_converted[columnName], hist = False, label = 'Not Converted',color='Red')\n",
    "    sns.distplot(converted[columnName], hist = False, label = 'Converted',color='Green')\n",
    "    plt.legend()\n",
    "    plt.show()"
   ]
  },
  {
   "cell_type": "code",
   "execution_count": null,
   "id": "7a51739c",
   "metadata": {},
   "outputs": [],
   "source": [
    "plot_un('TotalVisits',' \"Total Visits\" Distribution')"
   ]
  },
  {
   "cell_type": "code",
   "execution_count": null,
   "id": "b1b8b47d",
   "metadata": {},
   "outputs": [],
   "source": [
    "plot_un('Total Time Spent on Website',' \"Total Time Spent on Website\" Distribution')"
   ]
  },
  {
   "cell_type": "code",
   "execution_count": null,
   "id": "58fe0808",
   "metadata": {},
   "outputs": [],
   "source": [
    "plot_un('Page Views Per Visit',' \"Page Views Per Visit\" Distribution')"
   ]
  },
  {
   "cell_type": "markdown",
   "id": "93301f8b",
   "metadata": {},
   "source": [
    "######  Inferences from above graphs\n",
    "\n",
    "**1. There is no clear pattern for any of the three numerical columns with target variable which is 'Converted' however for 'Total Visists' and 'Page View per visists' the distribution looks similar for converted and not converted leads**"
   ]
  },
  {
   "cell_type": "markdown",
   "id": "516e5df9",
   "metadata": {},
   "source": [
    "### 4.2 Bivariate Categorical Analysis"
   ]
  },
  {
   "cell_type": "code",
   "execution_count": null,
   "id": "2ff3ebd0",
   "metadata": {},
   "outputs": [],
   "source": [
    "categorical_columns = leads.select_dtypes(include=['object']).columns.tolist()\n",
    "categorical_columns"
   ]
  },
  {
   "cell_type": "code",
   "execution_count": null,
   "id": "7fc8d119",
   "metadata": {},
   "outputs": [],
   "source": [
    "plt.figure(figsize=(15,25))\n",
    "plt.subplots_adjust(wspace=.2,hspace=1.2 )\n",
    "categorical_columns = leads.select_dtypes(include=['object']).columns.tolist()\n",
    "for i in enumerate(categorical_columns):\n",
    "    plt.subplot(4,2, i[0]+1)\n",
    "    ax1 = sns.countplot(x = i[1],hue = 'Converted', data = leads)\n",
    "    plt.xticks(rotation=90)\n",
    "    bars = ax1.patches\n",
    "    half = int(len(bars)/2)\n",
    "    left_bars = bars[:half]\n",
    "    right_bars = bars[half:]\n",
    "    for left, right in zip(left_bars, right_bars):\n",
    "            height_l = left.get_height()\n",
    "            height_r = right.get_height()\n",
    "            total = height_l + height_r\n",
    "        \n",
    "plt.show()"
   ]
  },
  {
   "cell_type": "code",
   "execution_count": null,
   "id": "114eca9d",
   "metadata": {},
   "outputs": [],
   "source": []
  }
 ],
 "metadata": {
  "kernelspec": {
   "display_name": "Python 3",
   "language": "python",
   "name": "python3"
  },
  "language_info": {
   "codemirror_mode": {
    "name": "ipython",
    "version": 3
   },
   "file_extension": ".py",
   "mimetype": "text/x-python",
   "name": "python",
   "nbconvert_exporter": "python",
   "pygments_lexer": "ipython3",
   "version": "3.8.5"
  }
 },
 "nbformat": 4,
 "nbformat_minor": 5
}
